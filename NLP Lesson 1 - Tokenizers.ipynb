{
 "cells": [
  {
   "cell_type": "code",
   "execution_count": 10,
   "metadata": {
    "collapsed": true
   },
   "outputs": [],
   "source": [
    "import nltk "
   ]
  },
  {
   "cell_type": "code",
   "execution_count": 11,
   "metadata": {},
   "outputs": [],
   "source": [
    "from nltk.tokenize import sent_tokenize, word_tokenize"
   ]
  },
  {
   "cell_type": "code",
   "execution_count": 12,
   "metadata": {
    "collapsed": true
   },
   "outputs": [],
   "source": [
    "from nltk.corpus import brown"
   ]
  },
  {
   "cell_type": "code",
   "execution_count": 13,
   "metadata": {},
   "outputs": [
    {
     "data": {
      "text/plain": [
       "['The', 'Fulton', 'County', 'Grand', 'Jury', 'said', ...]"
      ]
     },
     "execution_count": 13,
     "metadata": {},
     "output_type": "execute_result"
    }
   ],
   "source": [
    "brown.words()"
   ]
  },
  {
   "cell_type": "code",
   "execution_count": 18,
   "metadata": {},
   "outputs": [],
   "source": [
    "nlp_sentence=\"\"\"During the 1970s, many programmers began to write conceptual ontologies, \n",
    "which structured real-world information into computer-understandable data. \n",
    "Examples are MARGIE (Schank, 1975), SAM (Cullingford, 1978), PAM (Wilensky, 1978), \n",
    "TaleSpin (Meehan, 1976), QUALM (Lehnert, 1977), Politics (Carbonell, 1979), and Plot Units (Lehnert 1981). \n",
    "During this time, many chatterbots were written including PARRY, Racter, and Jabberwacky.\n",
    "Hello, Mr. Smith, How are you\"\"\""
   ]
  },
  {
   "cell_type": "code",
   "execution_count": 9,
   "metadata": {},
   "outputs": [
    {
     "name": "stdout",
     "output_type": "stream",
     "text": [
      "During the 1970s, many programmers began to write conceptual ontologies, \n",
      "which structured real-world information into computer-understandable data. \n",
      "Examples are MARGIE (Schank, 1975), SAM (Cullingford, 1978), PAM (Wilensky, 1978), \n",
      "TaleSpin (Meehan, 1976), QUALM (Lehnert, 1977), Politics (Carbonell, 1979), and Plot Units (Lehnert 1981). \n",
      "During this time, many chatterbots were written including PARRY, Racter, and Jabberwacky\n"
     ]
    }
   ],
   "source": [
    "print (nlp_sentence)"
   ]
  },
  {
   "cell_type": "code",
   "execution_count": 14,
   "metadata": {},
   "outputs": [
    {
     "name": "stdout",
     "output_type": "stream",
     "text": [
      "['During the 1970s, many programmers began to write conceptual ontologies, \\nwhich structured real-world information into computer-understandable data.', 'Examples are MARGIE (Schank, 1975), SAM (Cullingford, 1978), PAM (Wilensky, 1978), \\nTaleSpin (Meehan, 1976), QUALM (Lehnert, 1977), Politics (Carbonell, 1979), and Plot Units (Lehnert 1981).', 'During this time, many chatterbots were written including PARRY, Racter, and Jabberwacky']\n"
     ]
    }
   ],
   "source": [
    "print (sent_tokenize(nlp_sentence))"
   ]
  },
  {
   "cell_type": "code",
   "execution_count": 19,
   "metadata": {},
   "outputs": [
    {
     "name": "stdout",
     "output_type": "stream",
     "text": [
      "During the 1970s, many programmers began to write conceptual ontologies, \n",
      "which structured real-world information into computer-understandable data.\n",
      "\n",
      "\n",
      "Examples are MARGIE (Schank, 1975), SAM (Cullingford, 1978), PAM (Wilensky, 1978), \n",
      "TaleSpin (Meehan, 1976), QUALM (Lehnert, 1977), Politics (Carbonell, 1979), and Plot Units (Lehnert 1981).\n",
      "\n",
      "\n",
      "During this time, many chatterbots were written including PARRY, Racter, and Jabberwacky.\n",
      "\n",
      "\n",
      "Hello, Mr. Smith, How are you\n",
      "\n",
      "\n"
     ]
    }
   ],
   "source": [
    "for sentence in sent_tokenize(nlp_sentence):\n",
    "    print (sentence)\n",
    "    print (\"\\n\")"
   ]
  },
  {
   "cell_type": "code",
   "execution_count": 20,
   "metadata": {},
   "outputs": [
    {
     "name": "stdout",
     "output_type": "stream",
     "text": [
      "['During', 'the', '1970s', ',', 'many', 'programmers', 'began', 'to', 'write', 'conceptual', 'ontologies', ',', 'which', 'structured', 'real-world', 'information', 'into', 'computer-understandable', 'data', '.', 'Examples', 'are', 'MARGIE', '(', 'Schank', ',', '1975', ')', ',', 'SAM', '(', 'Cullingford', ',', '1978', ')', ',', 'PAM', '(', 'Wilensky', ',', '1978', ')', ',', 'TaleSpin', '(', 'Meehan', ',', '1976', ')', ',', 'QUALM', '(', 'Lehnert', ',', '1977', ')', ',', 'Politics', '(', 'Carbonell', ',', '1979', ')', ',', 'and', 'Plot', 'Units', '(', 'Lehnert', '1981', ')', '.', 'During', 'this', 'time', ',', 'many', 'chatterbots', 'were', 'written', 'including', 'PARRY', ',', 'Racter', ',', 'and', 'Jabberwacky', '.', 'Hello', ',', 'Mr.', 'Smith', ',', 'How', 'are', 'you']\n"
     ]
    }
   ],
   "source": [
    "print (word_tokenize(nlp_sentence))"
   ]
  },
  {
   "cell_type": "code",
   "execution_count": null,
   "metadata": {
    "collapsed": true
   },
   "outputs": [],
   "source": []
  }
 ],
 "metadata": {
  "kernelspec": {
   "display_name": "Python 3",
   "language": "python",
   "name": "python3"
  },
  "language_info": {
   "codemirror_mode": {
    "name": "ipython",
    "version": 3
   },
   "file_extension": ".py",
   "mimetype": "text/x-python",
   "name": "python",
   "nbconvert_exporter": "python",
   "pygments_lexer": "ipython3",
   "version": "3.5.3"
  }
 },
 "nbformat": 4,
 "nbformat_minor": 2
}
