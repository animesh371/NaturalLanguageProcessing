{
 "cells": [
  {
   "cell_type": "code",
   "execution_count": 1,
   "metadata": {
    "collapsed": true
   },
   "outputs": [],
   "source": [
    "import nltk\n",
    "import random \n",
    "from nltk.corpus import movie_reviews"
   ]
  },
  {
   "cell_type": "code",
   "execution_count": 2,
   "metadata": {},
   "outputs": [
    {
     "name": "stdout",
     "output_type": "stream",
     "text": [
      "[1, 2, 3, 4, 5, 6]\n"
     ]
    }
   ],
   "source": [
    "a = [1,2,3,4,5,6]\n",
    "print (a)"
   ]
  },
  {
   "cell_type": "code",
   "execution_count": 3,
   "metadata": {
    "collapsed": true
   },
   "outputs": [],
   "source": [
    "random.shuffle(a)"
   ]
  },
  {
   "cell_type": "code",
   "execution_count": 4,
   "metadata": {},
   "outputs": [
    {
     "name": "stdout",
     "output_type": "stream",
     "text": [
      "[6, 3, 1, 4, 5, 2]\n"
     ]
    }
   ],
   "source": [
    "print (a)"
   ]
  },
  {
   "cell_type": "code",
   "execution_count": 5,
   "metadata": {
    "collapsed": true
   },
   "outputs": [],
   "source": [
    "documents = []"
   ]
  },
  {
   "cell_type": "code",
   "execution_count": 7,
   "metadata": {},
   "outputs": [],
   "source": [
    "for category in movie_reviews.categories():\n",
    "    for fileid in movie_reviews.fileids(category):\n",
    "        documents.append((movie_reviews.words(fileid), category))"
   ]
  },
  {
   "cell_type": "code",
   "execution_count": 11,
   "metadata": {},
   "outputs": [
    {
     "name": "stdout",
     "output_type": "stream",
     "text": [
      "(['it', 'is', 'movies', 'like', 'these', 'that', 'make', ...], 'neg')\n"
     ]
    }
   ],
   "source": [
    "print (documents[2])"
   ]
  },
  {
   "cell_type": "code",
   "execution_count": 12,
   "metadata": {
    "collapsed": true
   },
   "outputs": [],
   "source": [
    "random.shuffle(documents)"
   ]
  },
  {
   "cell_type": "code",
   "execution_count": 13,
   "metadata": {},
   "outputs": [
    {
     "name": "stdout",
     "output_type": "stream",
     "text": [
      "(['some', 'movies', \"'\", 'pre', '-', 'release', 'buzz', ...], 'neg')\n"
     ]
    }
   ],
   "source": [
    "print (documents[2])"
   ]
  },
  {
   "cell_type": "code",
   "execution_count": 14,
   "metadata": {
    "collapsed": true
   },
   "outputs": [],
   "source": [
    "all_words = []"
   ]
  },
  {
   "cell_type": "code",
   "execution_count": 16,
   "metadata": {
    "collapsed": true
   },
   "outputs": [],
   "source": [
    "for word in movie_reviews.words():\n",
    "    all_words.append(word.lower())"
   ]
  },
  {
   "cell_type": "code",
   "execution_count": 17,
   "metadata": {},
   "outputs": [
    {
     "name": "stdout",
     "output_type": "stream",
     "text": [
      "[(',', 155434), ('the', 153058), ('.', 131752), ('a', 76212), ('and', 71152), ('of', 68246), ('to', 63874), (\"'\", 61170), ('is', 50390), ('in', 43644), ('s', 37026), ('\"', 35224), ('it', 32214), ('that', 31848), ('-', 31190)]\n"
     ]
    }
   ],
   "source": [
    "all_words = nltk.FreqDist(all_words)\n",
    "print (all_words.most_common(15))"
   ]
  },
  {
   "cell_type": "code",
   "execution_count": 18,
   "metadata": {},
   "outputs": [
    {
     "name": "stdout",
     "output_type": "stream",
     "text": [
      "[(',', 155434), ('the', 153058), ('.', 131752), ('a', 76212), ('and', 71152), ('of', 68246), ('to', 63874), (\"'\", 61170), ('is', 50390), ('in', 43644), ('s', 37026), ('\"', 35224), ('it', 32214), ('that', 31848), ('-', 31190), (')', 23562), ('(', 23328), ('as', 22756), ('with', 21584), ('for', 19922), ('his', 19174), ('this', 19156), ('film', 19034), ('i', 17778), ('he', 17728), ('but', 17268), ('on', 14770), ('are', 13898), ('t', 12820), ('by', 12522)]\n"
     ]
    }
   ],
   "source": [
    "print (all_words.most_common(30))"
   ]
  },
  {
   "cell_type": "code",
   "execution_count": 21,
   "metadata": {},
   "outputs": [
    {
     "name": "stdout",
     "output_type": "stream",
     "text": [
      "[(',', 155434), ('the', 153058), ('.', 131752), ('a', 76212), ('and', 71152), ('of', 68246), ('to', 63874), (\"'\", 61170), ('is', 50390), ('in', 43644), ('s', 37026), ('\"', 35224), ('it', 32214), ('that', 31848), ('-', 31190), (')', 23562), ('(', 23328), ('as', 22756), ('with', 21584), ('for', 19922), ('his', 19174), ('this', 19156), ('film', 19034), ('i', 17778), ('he', 17728), ('but', 17268), ('on', 14770), ('are', 13898), ('t', 12820), ('by', 12522), ('be', 12348), ('one', 11704), ('movie', 11542), ('an', 11488), ('who', 11384), ('not', 11154), ('you', 10632), ('from', 9998), ('at', 9972), ('was', 9880), ('have', 9802), ('they', 9650), ('has', 9438), ('her', 9044), ('all', 8746), ('?', 7542), ('there', 7540), ('like', 7380), ('so', 7366), ('out', 7274), ('about', 7046), ('up', 6810), ('more', 6694), ('what', 6644), ('when', 6516), ('which', 6322), ('or', 6296), ('she', 6282), ('their', 6244), (':', 6084), ('some', 5970), ('just', 5810), ('can', 5764), ('if', 5598), ('we', 5550), ('him', 5266), ('into', 5246), ('even', 5130), ('only', 4990), ('than', 4948), ('no', 4944), ('time', 4822), ('good', 4822), ('most', 4612), ('its', 4540), ('will', 4432), ('story', 4338), ('would', 4218), ('been', 4100), ('much', 4098), ('character', 4040), ('also', 3934), ('get', 3898), ('other', 3896), ('do', 3830), ('two', 3822), ('well', 3812), ('them', 3754), ('very', 3726), ('characters', 3718), (';', 3700), ('first', 3672), ('--', 3630), ('after', 3524), ('see', 3498), ('!', 3426), ('way', 3386), ('because', 3368), ('make', 3284), ('life', 3172)]\n"
     ]
    }
   ],
   "source": [
    "print (all_words.most_common(100))"
   ]
  },
  {
   "cell_type": "code",
   "execution_count": 20,
   "metadata": {},
   "outputs": [
    {
     "name": "stdout",
     "output_type": "stream",
     "text": [
      "<class 'nltk.corpus.reader.util.ConcatenatedCorpusView'>\n"
     ]
    }
   ],
   "source": [
    "print (type(movie_reviews.words()))"
   ]
  },
  {
   "cell_type": "code",
   "execution_count": 29,
   "metadata": {},
   "outputs": [
    {
     "name": "stdout",
     "output_type": "stream",
     "text": [
      "0\n"
     ]
    }
   ],
   "source": [
    "print (all_words[\"bayes\"])"
   ]
  },
  {
   "cell_type": "code",
   "execution_count": null,
   "metadata": {
    "collapsed": true
   },
   "outputs": [],
   "source": []
  }
 ],
 "metadata": {
  "kernelspec": {
   "display_name": "Python 3",
   "language": "python",
   "name": "python3"
  },
  "language_info": {
   "codemirror_mode": {
    "name": "ipython",
    "version": 3
   },
   "file_extension": ".py",
   "mimetype": "text/x-python",
   "name": "python",
   "nbconvert_exporter": "python",
   "pygments_lexer": "ipython3",
   "version": "3.5.3"
  }
 },
 "nbformat": 4,
 "nbformat_minor": 2
}
