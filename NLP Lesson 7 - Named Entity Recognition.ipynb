{
 "cells": [
  {
   "cell_type": "code",
   "execution_count": 3,
   "metadata": {
    "collapsed": true
   },
   "outputs": [],
   "source": [
    "import nltk\n",
    "from nltk.corpus import state_union\n",
    "from nltk.tokenize import PunktSentenceTokenizer"
   ]
  },
  {
   "cell_type": "code",
   "execution_count": 4,
   "metadata": {
    "collapsed": true
   },
   "outputs": [],
   "source": [
    "train_text = state_union.raw(\"1999-Clinton.txt\")\n",
    "test_text = state_union.raw(\"2000-Clinton.txt\")"
   ]
  },
  {
   "cell_type": "code",
   "execution_count": 5,
   "metadata": {
    "collapsed": true
   },
   "outputs": [],
   "source": [
    "custom_sent_tokenizer = PunktSentenceTokenizer(train_text)\n",
    "tokenized = custom_sent_tokenizer.tokenize(test_text)"
   ]
  },
  {
   "cell_type": "code",
   "execution_count": 21,
   "metadata": {
    "collapsed": true
   },
   "outputs": [],
   "source": [
    "def process_content():\n",
    "    try:\n",
    "        for i in tokenized[5:]:\n",
    "            words = nltk.word_tokenize(i)\n",
    "            tagged = nltk.pos_tag(words)\n",
    "\n",
    "    except Exception as e:\n",
    "        print (str(e))"
   ]
  },
  {
   "cell_type": "code",
   "execution_count": 22,
   "metadata": {},
   "outputs": [
    {
     "name": "stdout",
     "output_type": "stream",
     "text": [
      "(S\n",
      "  (Chunk PRESIDENT/NNP BILL/NNP CLINTON/NNP 'S/POS ADDRESS/NNP)\n",
      "  BEFORE/IN\n",
      "  (Chunk A/NNP JOINT/NNP SESSION/NNP)\n",
      "  OF/IN\n",
      "  (Chunk THE/NNP CONGRESS/NNP ON/NNP THE/NNP STATE/NNP)\n",
      "  OF/IN\n",
      "  (Chunk\n",
      "    THE/NNP\n",
      "    UNION/NNP\n",
      "    January/NNP\n",
      "    27/CD\n",
      "    ,/,\n",
      "    2000/CD\n",
      "    Mr./NNP\n",
      "    Speaker/NNP\n",
      "    ,/,\n",
      "    Mr./NNP\n",
      "    Vice/NNP\n",
      "    President/NNP\n",
      "    ,/,\n",
      "    Members/NNP)\n",
      "  of/IN\n",
      "  (Chunk Congress/NNP ,/,)\n",
      "  honored/VBD\n",
      "  (Chunk guests/NNS ,/, my/PRP$ fellow/JJ Americans/NNPS :/: We/PRP)\n",
      "  are/VBP\n",
      "  (Chunk fortunate/JJ to/TO)\n",
      "  be/VB\n",
      "  (Chunk alive/JJ)\n",
      "  at/IN\n",
      "  this/DT\n",
      "  (Chunk moment/NN)\n",
      "  in/IN\n",
      "  (Chunk history/NN ./.))\n",
      "(S\n",
      "  (Chunk Never/RB before/RB)\n",
      "  has/VBZ\n",
      "  (Chunk our/PRP$ Nation/NNP enjoyed/NN ,/,)\n",
      "  at/IN\n",
      "  (Chunk\n",
      "    once/RB\n",
      "    ,/,\n",
      "    so/RB\n",
      "    much/JJ\n",
      "    prosperity/NN\n",
      "    and/CC\n",
      "    social/JJ\n",
      "    progress/NN)\n",
      "  with/IN\n",
      "  (Chunk\n",
      "    so/RB\n",
      "    little/JJ\n",
      "    internal/JJ\n",
      "    crisis/NN\n",
      "    and/CC\n",
      "    so/RB\n",
      "    few/JJ\n",
      "    external/JJ\n",
      "    threats/NNS\n",
      "    ./.))\n",
      "(S\n",
      "  (Chunk Never/RB before/RB)\n",
      "  have/VBP\n",
      "  (Chunk we/PRP)\n",
      "  had/VBD\n",
      "  (Chunk such/JJ)\n",
      "  a/DT\n",
      "  (Chunk\n",
      "    blessed/JJ\n",
      "    opportunity/NN\n",
      "    and/CC\n",
      "    ,/,\n",
      "    therefore/RB\n",
      "    ,/,\n",
      "    such/PDT)\n",
      "  a/DT\n",
      "  (Chunk profound/JJ obligation/NN to/TO)\n",
      "  build/VB\n",
      "  the/DT\n",
      "  (Chunk more/RBR perfect/JJ Union/NNP)\n",
      "  of/IN\n",
      "  (Chunk our/PRP$ Founders/NNS '/POS dreams/NNS ./.))\n"
     ]
    }
   ],
   "source": [
    "process_content()"
   ]
  },
  {
   "cell_type": "code",
   "execution_count": null,
   "metadata": {
    "collapsed": true
   },
   "outputs": [],
   "source": []
  }
 ],
 "metadata": {
  "kernelspec": {
   "display_name": "Python 3",
   "language": "python",
   "name": "python3"
  },
  "language_info": {
   "codemirror_mode": {
    "name": "ipython",
    "version": 3
   },
   "file_extension": ".py",
   "mimetype": "text/x-python",
   "name": "python",
   "nbconvert_exporter": "python",
   "pygments_lexer": "ipython3",
   "version": "3.5.3"
  }
 },
 "nbformat": 4,
 "nbformat_minor": 2
}
